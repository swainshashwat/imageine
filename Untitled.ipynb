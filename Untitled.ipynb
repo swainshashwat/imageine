{
 "cells": [
  {
   "cell_type": "code",
   "execution_count": 5,
   "metadata": {},
   "outputs": [],
   "source": [
    "import numpy as np"
   ]
  },
  {
   "cell_type": "code",
   "execution_count": 4,
   "metadata": {},
   "outputs": [],
   "source": [
    "from keras import backend as K\n",
    "from keras.applications.vgg16 import preprocess_input\n",
    "from keras.preprocessing.image import load_img, img_to_array"
   ]
  },
  {
   "cell_type": "code",
   "execution_count": 2,
   "metadata": {},
   "outputs": [],
   "source": [
    "# paths\n",
    "c_im_path = 'data/megan_fox.jpg'\n",
    "s_im_path = 'data/melodyonight.jpg'\n"
   ]
  },
  {
   "cell_type": "code",
   "execution_count": 3,
   "metadata": {},
   "outputs": [],
   "source": [
    "# target dims\n",
    "targetHeight = 512\n",
    "targetWidth = 512\n",
    "targetSize = (targetHeight, targetWidth)"
   ]
  },
  {
   "cell_type": "code",
   "execution_count": 6,
   "metadata": {},
   "outputs": [],
   "source": [
    "def load_preprocess(img_path,\n",
    "                    targetSize=targetSize):\n",
    "    '''\n",
    "    Loads image as PIL.image, converts into np.ndarray\n",
    "        then preprocesses it as a Vgg16 input shape\n",
    "        after expanding row dimension by1\n",
    "    '''\n",
    "    im = load_img(path=img_path,\n",
    "                     target_size=targetSize)\n",
    "    im_arr = img_to_array(im)\n",
    "    im_arr = K.variable(preprocess_input(\n",
    "                            np.expand_dims(im_arr, axis=0)),\n",
    "                            dtype='float32')\n",
    "    return im_arr"
   ]
  },
  {
   "cell_type": "code",
   "execution_count": 7,
   "metadata": {},
   "outputs": [],
   "source": [
    "c_im = load_preprocess(c_im_path) # content image\n",
    "s_im = load_preprocess(s_im_path) # style image"
   ]
  },
  {
   "cell_type": "code",
   "execution_count": 8,
   "metadata": {},
   "outputs": [],
   "source": [
    "g_im_0 = np.random.randint(256,\n",
    "                size=(targetWidth, targetHeight, 3)).astype('float64')\n",
    "g_im_0 = preprocess_input(np.expand_dims(g_im_0, axis=0))\n",
    "g_im_0_placeholder = K.placeholder(\n",
    "        shape=(1, targetWidth, targetHeight, 3))"
   ]
  },
  {
   "cell_type": "code",
   "execution_count": null,
   "metadata": {},
   "outputs": [],
   "source": [
    "def get_feature_reps(x, layer_names, model):\n",
    "    '''\n",
    "    Get feature representations of\n",
    "    input x for one or more layers in a given model.\n",
    "    '''\n",
    "    featMatrices = []\n",
    "    for ln in layer_names:\n",
    "        selectedLayer = model.get_layer(ln)\n",
    "        featRaw = selectedLayer.output\n",
    "        "
   ]
  }
 ],
 "metadata": {
  "kernelspec": {
   "display_name": "Python 3",
   "language": "python",
   "name": "python3"
  },
  "language_info": {
   "codemirror_mode": {
    "name": "ipython",
    "version": 3
   },
   "file_extension": ".py",
   "mimetype": "text/x-python",
   "name": "python",
   "nbconvert_exporter": "python",
   "pygments_lexer": "ipython3",
   "version": "3.5.5"
  }
 },
 "nbformat": 4,
 "nbformat_minor": 2
}
